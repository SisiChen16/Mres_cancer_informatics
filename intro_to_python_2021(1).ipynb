{
 "cells": [
  {
   "cell_type": "markdown",
   "metadata": {
    "id": "cGmMMgiDM66r"
   },
   "source": [
    "# Introduction to Python\n",
    "by Guadalupe Gonzalez <br>\n",
    "Heavily based on [this tutorial](https://python.pages.doc.ic.ac.uk/2020/modules/module-buildingblocks/introduction)"
   ]
  },
  {
   "cell_type": "markdown",
   "metadata": {
    "id": "GvjJTI7EHIT-"
   },
   "source": [
    "## Basic built-in data types"
   ]
  },
  {
   "cell_type": "code",
   "execution_count": 1,
   "metadata": {
    "colab": {
     "base_uri": "https://localhost:8080/"
    },
    "executionInfo": {
     "elapsed": 247,
     "status": "ok",
     "timestamp": 1635797364271,
     "user": {
      "displayName": "Guadalupe Gonzalez",
      "photoUrl": "https://lh3.googleusercontent.com/a-/AOh14Gh6yi9i3jbOuc8N3L9yE02l2Z9qVoguGwLwR3u5bQ=s64",
      "userId": "04798127192760659593"
     },
     "user_tz": 0
    },
    "id": "Iat9Xe-fxzXJ",
    "outputId": "be0a5078-b292-46e3-8e5f-59720485f9ef"
   },
   "outputs": [
    {
     "name": "stdout",
     "output_type": "stream",
     "text": [
      "NUMBERS\n",
      "5\n",
      "<class 'int'>\n",
      "\n",
      "\n",
      "6.6\n",
      "<class 'float'>\n",
      "\n",
      "\n",
      "(4+6j)\n",
      "<class 'complex'>\n",
      "\n",
      "\n",
      "BOOLEAN\n",
      "True\n",
      "<class 'bool'>\n",
      "\n",
      "\n",
      "STRINGS\n",
      "Hello\n",
      "<class 'str'>\n",
      "\n",
      "\n"
     ]
    }
   ],
   "source": [
    "#Numbers\n",
    "print('NUMBERS')\n",
    "print(5)\n",
    "print(type(5))\n",
    "print('\\n')\n",
    "\n",
    "print(6.6)\n",
    "print(type(6.5))\n",
    "print('\\n')\n",
    "\n",
    "print(4+6j)\n",
    "print(type(4+6j))\n",
    "print('\\n')\n",
    "\n",
    "#Boolean\n",
    "print('BOOLEAN')\n",
    "print(True)\n",
    "print(type(True))\n",
    "print('\\n')\n",
    "\n",
    "#Strings\n",
    "print('STRINGS')\n",
    "print('Hello')\n",
    "print(type('Hello'))\n",
    "print('\\n')"
   ]
  },
  {
   "cell_type": "markdown",
   "metadata": {
    "id": "mvCNXSkEHzl8"
   },
   "source": [
    "## Variables \n",
    "Name or a label that point to an object"
   ]
  },
  {
   "cell_type": "code",
   "execution_count": null,
   "metadata": {
    "colab": {
     "base_uri": "https://localhost:8080/"
    },
    "executionInfo": {
     "elapsed": 5,
     "status": "ok",
     "timestamp": 1635797430186,
     "user": {
      "displayName": "Guadalupe Gonzalez",
      "photoUrl": "https://lh3.googleusercontent.com/a-/AOh14Gh6yi9i3jbOuc8N3L9yE02l2Z9qVoguGwLwR3u5bQ=s64",
      "userId": "04798127192760659593"
     },
     "user_tz": 0
    },
    "id": "gjXJNLvnHRRo",
    "outputId": "0f9fba30-4aa2-4e7b-c3f9-f4a67c8522f5"
   },
   "outputs": [
    {
     "name": "stdout",
     "output_type": "stream",
     "text": [
      "5\n",
      "<class 'int'>\n",
      "(3+5j)\n",
      "<class 'complex'>\n"
     ]
    }
   ],
   "source": [
    "x = 5\n",
    "print(x)\n",
    "print(type(x))\n",
    "\n",
    "y = complex(3,5)\n",
    "print(y)\n",
    "print(type(y))"
   ]
  },
  {
   "cell_type": "markdown",
   "metadata": {
    "id": "5bZBHc9WICfz"
   },
   "source": [
    "Different variables can point to the same object"
   ]
  },
  {
   "cell_type": "code",
   "execution_count": null,
   "metadata": {
    "colab": {
     "base_uri": "https://localhost:8080/"
    },
    "executionInfo": {
     "elapsed": 236,
     "status": "ok",
     "timestamp": 1635797474841,
     "user": {
      "displayName": "Guadalupe Gonzalez",
      "photoUrl": "https://lh3.googleusercontent.com/a-/AOh14Gh6yi9i3jbOuc8N3L9yE02l2Z9qVoguGwLwR3u5bQ=s64",
      "userId": "04798127192760659593"
     },
     "user_tz": 0
    },
    "id": "CPG0CCYyH-0D",
    "outputId": "82d0ba11-a162-41bf-9f83-d34d0302bbf3"
   },
   "outputs": [
    {
     "name": "stdout",
     "output_type": "stream",
     "text": [
      "x:\t 5\n",
      "y:\t 5\n"
     ]
    }
   ],
   "source": [
    "x = 5\n",
    "y = x\n",
    "print('x:\\t', x)\n",
    "print('y:\\t',y)"
   ]
  },
  {
   "cell_type": "markdown",
   "metadata": {
    "id": "T6vYzxZAINYE"
   },
   "source": [
    "Variables should have semantically-meaningful names"
   ]
  },
  {
   "cell_type": "code",
   "execution_count": null,
   "metadata": {
    "colab": {
     "base_uri": "https://localhost:8080/"
    },
    "executionInfo": {
     "elapsed": 217,
     "status": "ok",
     "timestamp": 1635797550668,
     "user": {
      "displayName": "Guadalupe Gonzalez",
      "photoUrl": "https://lh3.googleusercontent.com/a-/AOh14Gh6yi9i3jbOuc8N3L9yE02l2Z9qVoguGwLwR3u5bQ=s64",
      "userId": "04798127192760659593"
     },
     "user_tz": 0
    },
    "id": "jh8_bRqJIJwE",
    "outputId": "93c8e596-d3d4-4ef8-a4a4-189ecee50d50"
   },
   "outputs": [
    {
     "name": "stdout",
     "output_type": "stream",
     "text": [
      "age:\t 35\n",
      "height:\t 175\n"
     ]
    }
   ],
   "source": [
    "age = 35\n",
    "height = 175\n",
    "\n",
    "print('age:\\t', age)\n",
    "print('height:\\t', height)"
   ]
  },
  {
   "cell_type": "markdown",
   "metadata": {
    "id": "Y-nupovDIjMZ"
   },
   "source": [
    "## Operators\n",
    "### Arithmetics"
   ]
  },
  {
   "cell_type": "code",
   "execution_count": null,
   "metadata": {
    "colab": {
     "base_uri": "https://localhost:8080/"
    },
    "executionInfo": {
     "elapsed": 307,
     "status": "ok",
     "timestamp": 1635797667444,
     "user": {
      "displayName": "Guadalupe Gonzalez",
      "photoUrl": "https://lh3.googleusercontent.com/a-/AOh14Gh6yi9i3jbOuc8N3L9yE02l2Z9qVoguGwLwR3u5bQ=s64",
      "userId": "04798127192760659593"
     },
     "user_tz": 0
    },
    "id": "z0xGZwegIXDV",
    "outputId": "55d011c0-12ad-4e4e-c82f-5941a9c7b4c6"
   },
   "outputs": [
    {
     "name": "stdout",
     "output_type": "stream",
     "text": [
      "9\n",
      "5\n",
      "14\n",
      "3.5\n",
      "3\n",
      "1\n",
      "49\n"
     ]
    }
   ],
   "source": [
    "print(7+2)\n",
    "print(7-2)\n",
    "print(7*2)\n",
    "print(7/2)\n",
    "print(7//2)\n",
    "print(7%2)\n",
    "print(7**2)"
   ]
  },
  {
   "cell_type": "markdown",
   "metadata": {
    "id": "ALmuZ4wGI7WG"
   },
   "source": [
    "### Comparison operators"
   ]
  },
  {
   "cell_type": "code",
   "execution_count": null,
   "metadata": {
    "colab": {
     "base_uri": "https://localhost:8080/"
    },
    "executionInfo": {
     "elapsed": 206,
     "status": "ok",
     "timestamp": 1635797718543,
     "user": {
      "displayName": "Guadalupe Gonzalez",
      "photoUrl": "https://lh3.googleusercontent.com/a-/AOh14Gh6yi9i3jbOuc8N3L9yE02l2Z9qVoguGwLwR3u5bQ=s64",
      "userId": "04798127192760659593"
     },
     "user_tz": 0
    },
    "id": "IADpm4g-IxpX",
    "outputId": "f7b40dfb-bdb0-44d4-d042-fc1fc94333de"
   },
   "outputs": [
    {
     "name": "stdout",
     "output_type": "stream",
     "text": [
      "True\n",
      "False\n",
      "False\n",
      "True\n",
      "True\n",
      "False\n"
     ]
    }
   ],
   "source": [
    "print(7>5)\n",
    "print(7<5)\n",
    "print(7==5)\n",
    "print(7!=5)\n",
    "print(7>=5)\n",
    "print(7<=5)"
   ]
  },
  {
   "cell_type": "markdown",
   "metadata": {
    "id": "DY8vSbGvJIMh"
   },
   "source": [
    "### Logical operators"
   ]
  },
  {
   "cell_type": "code",
   "execution_count": 1,
   "metadata": {
    "colab": {
     "base_uri": "https://localhost:8080/"
    },
    "executionInfo": {
     "elapsed": 5,
     "status": "ok",
     "timestamp": 1636404895568,
     "user": {
      "displayName": "Guadalupe Gonzalez",
      "photoUrl": "https://lh3.googleusercontent.com/a-/AOh14Gh6yi9i3jbOuc8N3L9yE02l2Z9qVoguGwLwR3u5bQ=s64",
      "userId": "04798127192760659593"
     },
     "user_tz": 0
    },
    "id": "d2DeGT-gJB8I",
    "outputId": "f638859c-b42b-4d76-f6ef-f1aad0d93ad1"
   },
   "outputs": [
    {
     "name": "stdout",
     "output_type": "stream",
     "text": [
      "not True:\t\t False\n",
      "not False:\t\t True\n",
      "True and False:\t\t False\n",
      "False and False:\t False\n"
     ]
    }
   ],
   "source": [
    "print('not True:\\t\\t', not True)\n",
    "print('not False:\\t\\t',not False)\n",
    "print('True and False:\\t\\t',True and False)\n",
    "print('False and False:\\t',False and False)"
   ]
  },
  {
   "cell_type": "markdown",
   "metadata": {
    "id": "SkLMrP-zJrAG"
   },
   "source": [
    "### Simple statements - exercises\n",
    "\n",
    "#### Exercise 1. Write a program that computes the values of a+aa+aaa for a given integer digit a <br>\n",
    "For example, for the digit 3 this would be 3+33+333 = 369"
   ]
  },
  {
   "cell_type": "code",
   "execution_count": 7,
   "metadata": {
    "id": "iemptUWYJNBa"
   },
   "outputs": [
    {
     "name": "stdout",
     "output_type": "stream",
     "text": [
      "Enter an integar between 1-9:5\n",
      "5 + 55 + 555 = 615\n"
     ]
    }
   ],
   "source": [
    "#Answer here\n",
    "a = eval(input(\"Enter an integar between 1-9:\"))\n",
    "\n",
    "aa = a*10 + a\n",
    "aaa = a*100 + a*10 + a \n",
    "\n",
    "print(a,\"+\",aa, \"+\",aaa, \"=\", a+aa+aaa)\n",
    "    \n"
   ]
  },
  {
   "cell_type": "markdown",
   "metadata": {
    "id": "Zj4Iu5xDJ0F4"
   },
   "source": [
    "#### Exercise 2. Write a program which uses Heron’s Formula, and defines the length of the three sides of a triangle, computes its area before printing it.<br>\n",
    "Heron's formula is:\n",
    "\n",
    "\n",
    "![Screen Shot 2021-11-01 at 20.19.48.png](data:image/png;base64,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)"
   ]
  },
  {
   "cell_type": "code",
   "execution_count": 8,
   "metadata": {
    "colab": {
     "base_uri": "https://localhost:8080/"
    },
    "executionInfo": {
     "elapsed": 253,
     "status": "ok",
     "timestamp": 1635798031239,
     "user": {
      "displayName": "Guadalupe Gonzalez",
      "photoUrl": "https://lh3.googleusercontent.com/a-/AOh14Gh6yi9i3jbOuc8N3L9yE02l2Z9qVoguGwLwR3u5bQ=s64",
      "userId": "04798127192760659593"
     },
     "user_tz": 0
    },
    "id": "XJpEiAVGKJkg",
    "outputId": "ae4a22ee-ab77-4fb7-a90f-6d039a1fe7e0"
   },
   "outputs": [
    {
     "data": {
      "text/plain": [
       "3.0"
      ]
     },
     "execution_count": 8,
     "metadata": {},
     "output_type": "execute_result"
    }
   ],
   "source": [
    "#you can use Python's math.sqrt() function to compute the square root\n",
    "import math\n",
    "math.sqrt(9)"
   ]
  },
  {
   "cell_type": "code",
   "execution_count": 24,
   "metadata": {
    "id": "XlhlN3uXKNs4"
   },
   "outputs": [
    {
     "name": "stdout",
     "output_type": "stream",
     "text": [
      "Type in 3 numbers to define the side lengths of a triangle.\n"
     ]
    },
    {
     "ename": "KeyboardInterrupt",
     "evalue": "Interrupted by user",
     "output_type": "error",
     "traceback": [
      "\u001b[0;31m---------------------------------------------------------------------------\u001b[0m",
      "\u001b[0;31mKeyboardInterrupt\u001b[0m                         Traceback (most recent call last)",
      "\u001b[0;32m<ipython-input-24-b9f98aa03222>\u001b[0m in \u001b[0;36m<module>\u001b[0;34m\u001b[0m\n\u001b[1;32m      1\u001b[0m \u001b[0;31m#Answer here\u001b[0m\u001b[0;34m\u001b[0m\u001b[0;34m\u001b[0m\u001b[0;34m\u001b[0m\u001b[0m\n\u001b[1;32m      2\u001b[0m \u001b[0mprint\u001b[0m\u001b[0;34m(\u001b[0m\u001b[0;34m\"Type in 3 numbers to define the side lengths of a triangle.\"\u001b[0m\u001b[0;34m)\u001b[0m\u001b[0;34m\u001b[0m\u001b[0;34m\u001b[0m\u001b[0m\n\u001b[0;32m----> 3\u001b[0;31m \u001b[0ma\u001b[0m \u001b[0;34m=\u001b[0m \u001b[0meval\u001b[0m\u001b[0;34m(\u001b[0m\u001b[0minput\u001b[0m\u001b[0;34m(\u001b[0m\u001b[0;34m\"a equals:\"\u001b[0m\u001b[0;34m)\u001b[0m\u001b[0;34m)\u001b[0m\u001b[0;34m\u001b[0m\u001b[0;34m\u001b[0m\u001b[0m\n\u001b[0m\u001b[1;32m      4\u001b[0m \u001b[0mb\u001b[0m \u001b[0;34m=\u001b[0m \u001b[0meval\u001b[0m\u001b[0;34m(\u001b[0m\u001b[0minput\u001b[0m\u001b[0;34m(\u001b[0m\u001b[0;34m\"b equals:\"\u001b[0m\u001b[0;34m)\u001b[0m\u001b[0;34m)\u001b[0m\u001b[0;34m\u001b[0m\u001b[0;34m\u001b[0m\u001b[0m\n\u001b[1;32m      5\u001b[0m \u001b[0mc\u001b[0m \u001b[0;34m=\u001b[0m \u001b[0meval\u001b[0m\u001b[0;34m(\u001b[0m\u001b[0minput\u001b[0m\u001b[0;34m(\u001b[0m\u001b[0;34m\"c equals:\"\u001b[0m\u001b[0;34m)\u001b[0m\u001b[0;34m)\u001b[0m\u001b[0;34m\u001b[0m\u001b[0;34m\u001b[0m\u001b[0m\n",
      "\u001b[0;32m~/opt/anaconda3/lib/python3.8/site-packages/ipykernel/kernelbase.py\u001b[0m in \u001b[0;36mraw_input\u001b[0;34m(self, prompt)\u001b[0m\n\u001b[1;32m    858\u001b[0m                 \u001b[0;34m\"raw_input was called, but this frontend does not support input requests.\"\u001b[0m\u001b[0;34m\u001b[0m\u001b[0;34m\u001b[0m\u001b[0m\n\u001b[1;32m    859\u001b[0m             )\n\u001b[0;32m--> 860\u001b[0;31m         return self._input_request(str(prompt),\n\u001b[0m\u001b[1;32m    861\u001b[0m             \u001b[0mself\u001b[0m\u001b[0;34m.\u001b[0m\u001b[0m_parent_ident\u001b[0m\u001b[0;34m,\u001b[0m\u001b[0;34m\u001b[0m\u001b[0;34m\u001b[0m\u001b[0m\n\u001b[1;32m    862\u001b[0m             \u001b[0mself\u001b[0m\u001b[0;34m.\u001b[0m\u001b[0m_parent_header\u001b[0m\u001b[0;34m,\u001b[0m\u001b[0;34m\u001b[0m\u001b[0;34m\u001b[0m\u001b[0m\n",
      "\u001b[0;32m~/opt/anaconda3/lib/python3.8/site-packages/ipykernel/kernelbase.py\u001b[0m in \u001b[0;36m_input_request\u001b[0;34m(self, prompt, ident, parent, password)\u001b[0m\n\u001b[1;32m    902\u001b[0m             \u001b[0;32mexcept\u001b[0m \u001b[0mKeyboardInterrupt\u001b[0m\u001b[0;34m:\u001b[0m\u001b[0;34m\u001b[0m\u001b[0;34m\u001b[0m\u001b[0m\n\u001b[1;32m    903\u001b[0m                 \u001b[0;31m# re-raise KeyboardInterrupt, to truncate traceback\u001b[0m\u001b[0;34m\u001b[0m\u001b[0;34m\u001b[0m\u001b[0;34m\u001b[0m\u001b[0m\n\u001b[0;32m--> 904\u001b[0;31m                 \u001b[0;32mraise\u001b[0m \u001b[0mKeyboardInterrupt\u001b[0m\u001b[0;34m(\u001b[0m\u001b[0;34m\"Interrupted by user\"\u001b[0m\u001b[0;34m)\u001b[0m \u001b[0;32mfrom\u001b[0m \u001b[0;32mNone\u001b[0m\u001b[0;34m\u001b[0m\u001b[0;34m\u001b[0m\u001b[0m\n\u001b[0m\u001b[1;32m    905\u001b[0m             \u001b[0;32mexcept\u001b[0m \u001b[0mException\u001b[0m \u001b[0;32mas\u001b[0m \u001b[0me\u001b[0m\u001b[0;34m:\u001b[0m\u001b[0;34m\u001b[0m\u001b[0;34m\u001b[0m\u001b[0m\n\u001b[1;32m    906\u001b[0m                 \u001b[0mself\u001b[0m\u001b[0;34m.\u001b[0m\u001b[0mlog\u001b[0m\u001b[0;34m.\u001b[0m\u001b[0mwarning\u001b[0m\u001b[0;34m(\u001b[0m\u001b[0;34m\"Invalid Message:\"\u001b[0m\u001b[0;34m,\u001b[0m \u001b[0mexc_info\u001b[0m\u001b[0;34m=\u001b[0m\u001b[0;32mTrue\u001b[0m\u001b[0;34m)\u001b[0m\u001b[0;34m\u001b[0m\u001b[0;34m\u001b[0m\u001b[0m\n",
      "\u001b[0;31mKeyboardInterrupt\u001b[0m: Interrupted by user"
     ]
    }
   ],
   "source": [
    "#Answer here\n",
    "print(\"Type in 3 numbers to define the side lengths of a triangle.\")\n",
    "a = eval(input(\"a equals:\")) \n",
    "b = eval(input(\"b equals:\"))\n",
    "c = eval(input(\"c equals:\"))\n",
    "\n",
    "p = (a + b + c)/2 \n",
    "print(p)\n",
    "area = math.sqrt(p(p-a)(p-b)(p-c))\n",
    "print(area)\n"
   ]
  },
  {
   "cell_type": "markdown",
   "metadata": {
    "id": "9zSmuEXLVdmT"
   },
   "source": [
    "## Selection\n",
    "We use the 'if' 'else' statements to form selection statements"
   ]
  },
  {
   "cell_type": "code",
   "execution_count": null,
   "metadata": {
    "colab": {
     "base_uri": "https://localhost:8080/"
    },
    "executionInfo": {
     "elapsed": 232,
     "status": "ok",
     "timestamp": 1636405051075,
     "user": {
      "displayName": "Guadalupe Gonzalez",
      "photoUrl": "https://lh3.googleusercontent.com/a-/AOh14Gh6yi9i3jbOuc8N3L9yE02l2Z9qVoguGwLwR3u5bQ=s64",
      "userId": "04798127192760659593"
     },
     "user_tz": 0
    },
    "id": "fkB_T-uCVwda",
    "outputId": "2d480805-9cb9-4908-f86a-f8bbb1d8f007"
   },
   "outputs": [],
   "source": [
    "user_guess = 50\n",
    "\n",
    "if user_guess == 42:\n",
    "\tprint(\"Correct\")\n",
    "else:\n",
    "\tif user_guess < 42:\n",
    "\t\tprint(\"Too low\")\n",
    "\telse:\n",
    "\t\tprint(\"Too high\")"
   ]
  },
  {
   "cell_type": "code",
   "execution_count": 3,
   "metadata": {
    "colab": {
     "base_uri": "https://localhost:8080/"
    },
    "executionInfo": {
     "elapsed": 246,
     "status": "ok",
     "timestamp": 1636405069039,
     "user": {
      "displayName": "Guadalupe Gonzalez",
      "photoUrl": "https://lh3.googleusercontent.com/a-/AOh14Gh6yi9i3jbOuc8N3L9yE02l2Z9qVoguGwLwR3u5bQ=s64",
      "userId": "04798127192760659593"
     },
     "user_tz": 0
    },
    "id": "vFn_-jwMV3yr",
    "outputId": "89a5fed4-3b97-4555-fb32-39c271cdd2a5"
   },
   "outputs": [
    {
     "name": "stdout",
     "output_type": "stream",
     "text": [
      "Very very close\n"
     ]
    }
   ],
   "source": [
    "user_guess = 40\n",
    "\n",
    "if user_guess == 42:\n",
    "\tprint(\"Correct\")\n",
    "elif user_guess == 41:\n",
    "\tprint(\"Very very very close\")\n",
    "elif user_guess == 40:\n",
    "\tprint(\"Very very close\")\n",
    "else:\n",
    "\tprint(\"Incorrect\")"
   ]
  },
  {
   "cell_type": "markdown",
   "metadata": {
    "id": "4WgwRsF-WBwQ"
   },
   "source": [
    "### Compound statements - exercises\n",
    "\n",
    "#### Exercise 1. Write a program that prints ‘empty’ if a list is empty and ‘not empty’ if the list contains elements."
   ]
  },
  {
   "cell_type": "code",
   "execution_count": 20,
   "metadata": {
    "executionInfo": {
     "elapsed": 215,
     "status": "ok",
     "timestamp": 1636405116227,
     "user": {
      "displayName": "Guadalupe Gonzalez",
      "photoUrl": "https://lh3.googleusercontent.com/a-/AOh14Gh6yi9i3jbOuc8N3L9yE02l2Z9qVoguGwLwR3u5bQ=s64",
      "userId": "04798127192760659593"
     },
     "user_tz": 0
    },
    "id": "9Yf_eMouV8Ku"
   },
   "outputs": [
    {
     "name": "stdout",
     "output_type": "stream",
     "text": [
      "The list is empty!\n"
     ]
    }
   ],
   "source": [
    "#Answer here\n",
    "a = []\n",
    "\n",
    "if a == []: \n",
    "    print(\"The list is empty!\")\n",
    "else: \n",
    "    print(\"Not empty!\")\n"
   ]
  },
  {
   "cell_type": "markdown",
   "metadata": {
    "id": "Oci-YU1xWIbt"
   },
   "source": [
    "#### Exercise 2. Write a program that prints a text if it has less than 15 words, or otherwise print a message that the sentence is too long."
   ]
  },
  {
   "cell_type": "code",
   "execution_count": 30,
   "metadata": {
    "executionInfo": {
     "elapsed": 306,
     "status": "ok",
     "timestamp": 1636405177425,
     "user": {
      "displayName": "Guadalupe Gonzalez",
      "photoUrl": "https://lh3.googleusercontent.com/a-/AOh14Gh6yi9i3jbOuc8N3L9yE02l2Z9qVoguGwLwR3u5bQ=s64",
      "userId": "04798127192760659593"
     },
     "user_tz": 0
    },
    "id": "i7NWyQAlWHs0"
   },
   "outputs": [
    {
     "name": "stdout",
     "output_type": "stream",
     "text": [
      "The sentence is too long.\n"
     ]
    }
   ],
   "source": [
    "#Answer here\n",
    "words = (\"Write\",\"a\",\"program\",\"that\",\"prints\",\"a\",\"text\",\"if\",\"it\",\"has\",\"less\",\"than\",\"15\",\"words\",\"or\",\"otherwise\")\n",
    "\n",
    "if len(words) < 15:\n",
    "    for word in words: \n",
    "        print(word)\n",
    "else: \n",
    "    print(\"The sentence is too long.\")\n",
    "\n"
   ]
  },
  {
   "cell_type": "markdown",
   "metadata": {
    "id": "DHmqz52oWXH4"
   },
   "source": [
    "#### Exercise 3. Given two strings, str1 and str2, write a program that prints the string with the maximum length.\n",
    "\n",
    "Or if both strings have equal length, starting with the one that is first in alphabetical order."
   ]
  },
  {
   "cell_type": "code",
   "execution_count": 33,
   "metadata": {
    "id": "SU1fOLSlWWkj"
   },
   "outputs": [
    {
     "name": "stdout",
     "output_type": "stream",
     "text": [
      "pineapple\n"
     ]
    }
   ],
   "source": [
    "#Answer here\n",
    "str1 = \"apple\"\n",
    "str2 = \"pineapple\"\n",
    "\n",
    "if len(str1) > len(str2):\n",
    "    print(str1)\n",
    "else: \n",
    "    print(str2)\n"
   ]
  },
  {
   "cell_type": "markdown",
   "metadata": {
    "id": "UJvdxoKRWgyz"
   },
   "source": [
    "## Repetition\n",
    "We use ```while```, and ```for``` loops to define repetition sequences <br>\n",
    "See some examples below\n",
    "\n"
   ]
  },
  {
   "cell_type": "code",
   "execution_count": 34,
   "metadata": {
    "colab": {
     "base_uri": "https://localhost:8080/"
    },
    "executionInfo": {
     "elapsed": 310,
     "status": "ok",
     "timestamp": 1636405312798,
     "user": {
      "displayName": "Guadalupe Gonzalez",
      "photoUrl": "https://lh3.googleusercontent.com/a-/AOh14Gh6yi9i3jbOuc8N3L9yE02l2Z9qVoguGwLwR3u5bQ=s64",
      "userId": "04798127192760659593"
     },
     "user_tz": 0
    },
    "id": "eUVwe0VgWxIz",
    "outputId": "12030834-95f1-4723-d670-67fc7cad4c64"
   },
   "outputs": [
    {
     "name": "stdout",
     "output_type": "stream",
     "text": [
      "10\n",
      "9\n",
      "8\n",
      "7\n",
      "6\n",
      "5\n",
      "4\n",
      "3\n",
      "2\n",
      "1\n",
      "Happy new year!!\n"
     ]
    }
   ],
   "source": [
    "#Loops from n = 10 to n = 0 \n",
    "n = 10\n",
    "while n > 0:\n",
    "    print(n)\n",
    "    n = n - 1\n",
    "print(\"Happy new year!!\")"
   ]
  },
  {
   "cell_type": "code",
   "execution_count": 7,
   "metadata": {
    "colab": {
     "base_uri": "https://localhost:8080/"
    },
    "executionInfo": {
     "elapsed": 245,
     "status": "ok",
     "timestamp": 1636405333515,
     "user": {
      "displayName": "Guadalupe Gonzalez",
      "photoUrl": "https://lh3.googleusercontent.com/a-/AOh14Gh6yi9i3jbOuc8N3L9yE02l2Z9qVoguGwLwR3u5bQ=s64",
      "userId": "04798127192760659593"
     },
     "user_tz": 0
    },
    "id": "wModo-iKW3qC",
    "outputId": "2a07e3c1-44ef-4fd3-e781-e4d366da0455"
   },
   "outputs": [
    {
     "name": "stdout",
     "output_type": "stream",
     "text": [
      "I\n",
      "have\n",
      "a\n",
      "dream\n"
     ]
    }
   ],
   "source": [
    "#Prints all the words in a list\n",
    "words = [\"I\", \"have\", \"a\", \"dream\"]\n",
    "for word in words:\n",
    "    print(word)"
   ]
  },
  {
   "cell_type": "markdown",
   "metadata": {
    "id": "x1n-QeeNXD2s"
   },
   "source": [
    "## Exercises - Repetitions\n",
    "#### Exercise 1. Given a list of integers, create a program that outputs a list of tuples where the first element in the tuple is the number itself, and the second element in the tuple is the number squared.\n",
    "\n",
    "For example inputting [1, 2, 3] would return [(1, 1), (2, 4), (3, 9)]"
   ]
  },
  {
   "cell_type": "code",
   "execution_count": 61,
   "metadata": {
    "executionInfo": {
     "elapsed": 257,
     "status": "ok",
     "timestamp": 1636405404816,
     "user": {
      "displayName": "Guadalupe Gonzalez",
      "photoUrl": "https://lh3.googleusercontent.com/a-/AOh14Gh6yi9i3jbOuc8N3L9yE02l2Z9qVoguGwLwR3u5bQ=s64",
      "userId": "04798127192760659593"
     },
     "user_tz": 0
    },
    "id": "0x3CRAwwW8nH"
   },
   "outputs": [
    {
     "name": "stdout",
     "output_type": "stream",
     "text": [
      "1 1\n",
      "2 4\n",
      "3 9\n"
     ]
    },
    {
     "data": {
      "text/plain": [
       "[(1, 1), (2, 4), (3, 9)]"
      ]
     },
     "execution_count": 61,
     "metadata": {},
     "output_type": "execute_result"
    }
   ],
   "source": [
    "#Answer here\n",
    "integers = [1,2,3]\n",
    "integers2 = []\n",
    "for i in integers:\n",
    "    print(i, i**2)\n",
    "    integers2.append((i,i**2))\n",
    "\n",
    "integers2\n"
   ]
  },
  {
   "cell_type": "markdown",
   "metadata": {
    "id": "3gNaD_kVXOrW"
   },
   "source": [
    "Exercise 2. Write a program that takes a list of integers, and returns the same list, except squaring any numbers divisible by 3"
   ]
  },
  {
   "cell_type": "code",
   "execution_count": 75,
   "metadata": {
    "executionInfo": {
     "elapsed": 236,
     "status": "ok",
     "timestamp": 1636405420578,
     "user": {
      "displayName": "Guadalupe Gonzalez",
      "photoUrl": "https://lh3.googleusercontent.com/a-/AOh14Gh6yi9i3jbOuc8N3L9yE02l2Z9qVoguGwLwR3u5bQ=s64",
      "userId": "04798127192760659593"
     },
     "user_tz": 0
    },
    "id": "i24_2ffaXOGV"
   },
   "outputs": [
    {
     "name": "stdout",
     "output_type": "stream",
     "text": [
      "[1, 4, 36, 81, 144, 900]\n",
      "[1, 4, 36, 81, 144, 900]\n"
     ]
    }
   ],
   "source": [
    "#Answer here\n",
    "integers = [1,4,6,9,12,30]\n",
    "integers2 = []\n",
    "\n",
    "for i in integers:\n",
    "    if i % 3 == 0: \n",
    "        integers2.append(i**2)\n",
    "    else: \n",
    "        integers2.append(i)\n",
    "print(integers2)\n",
    "\n",
    "\n",
    "##alternative ways \n",
    "for i in range(len(integers)):\n",
    "    if integers[i] % 3 == 0: \n",
    "        integers[i] = integers[i]**2\n",
    "print(integers)"
   ]
  },
  {
   "cell_type": "markdown",
   "metadata": {
    "id": "xtvTsa_NXUSs"
   },
   "source": [
    "#### Exercise 3. Iterate over the following list: words = [‘Imperial’, ‘College’, ‘London’], and print the item number as well as each item in the list."
   ]
  },
  {
   "cell_type": "code",
   "execution_count": 81,
   "metadata": {
    "id": "O1S7ggDRXR3V"
   },
   "outputs": [
    {
     "name": "stdout",
     "output_type": "stream",
     "text": [
      "0\n",
      "Imperial\n",
      "1\n",
      "College\n",
      "2\n",
      "London\n"
     ]
    }
   ],
   "source": [
    "#Answer here\n",
    "words = ['Imperial', 'College','London']\n",
    "\n",
    "for i in range(len(words)): \n",
    "    print(i)\n",
    "    print(words[i])\n",
    "\n"
   ]
  },
  {
   "cell_type": "markdown",
   "metadata": {
    "id": "eJxxovsDXffC"
   },
   "source": [
    "#### Exercise 4. Given two lists of integers with the same length, add the values in the first list to the corresponding values in the second list.\n",
    "\n",
    "For example inputting [1, 2, 3] and [5, 4, 3] would return [6, 6, 6]"
   ]
  },
  {
   "cell_type": "code",
   "execution_count": 84,
   "metadata": {
    "executionInfo": {
     "elapsed": 516,
     "status": "ok",
     "timestamp": 1636405487152,
     "user": {
      "displayName": "Guadalupe Gonzalez",
      "photoUrl": "https://lh3.googleusercontent.com/a-/AOh14Gh6yi9i3jbOuc8N3L9yE02l2Z9qVoguGwLwR3u5bQ=s64",
      "userId": "04798127192760659593"
     },
     "user_tz": 0
    },
    "id": "cSie9b_pXhDy"
   },
   "outputs": [
    {
     "ename": "IndexError",
     "evalue": "list assignment index out of range",
     "output_type": "error",
     "traceback": [
      "\u001b[0;31m---------------------------------------------------------------------------\u001b[0m",
      "\u001b[0;31mIndexError\u001b[0m                                Traceback (most recent call last)",
      "\u001b[0;32m<ipython-input-84-5f5adf3ef6c9>\u001b[0m in \u001b[0;36m<module>\u001b[0;34m\u001b[0m\n\u001b[1;32m      6\u001b[0m \u001b[0mindex\u001b[0m \u001b[0;34m=\u001b[0m \u001b[0;34m[\u001b[0m\u001b[0;36m0\u001b[0m\u001b[0;34m,\u001b[0m\u001b[0;36m1\u001b[0m\u001b[0;34m,\u001b[0m\u001b[0;36m2\u001b[0m\u001b[0;34m]\u001b[0m\u001b[0;34m\u001b[0m\u001b[0;34m\u001b[0m\u001b[0m\n\u001b[1;32m      7\u001b[0m \u001b[0;32mfor\u001b[0m \u001b[0mi\u001b[0m \u001b[0;32min\u001b[0m \u001b[0mindex\u001b[0m\u001b[0;34m:\u001b[0m\u001b[0;34m\u001b[0m\u001b[0;34m\u001b[0m\u001b[0m\n\u001b[0;32m----> 8\u001b[0;31m     \u001b[0mintegers3\u001b[0m\u001b[0;34m[\u001b[0m\u001b[0mi\u001b[0m\u001b[0;34m]\u001b[0m \u001b[0;34m=\u001b[0m \u001b[0mintegers1\u001b[0m\u001b[0;34m[\u001b[0m\u001b[0mi\u001b[0m\u001b[0;34m]\u001b[0m \u001b[0;34m+\u001b[0m \u001b[0mintegers2\u001b[0m\u001b[0;34m[\u001b[0m\u001b[0mi\u001b[0m\u001b[0;34m]\u001b[0m\u001b[0;34m\u001b[0m\u001b[0;34m\u001b[0m\u001b[0m\n\u001b[0m\u001b[1;32m      9\u001b[0m \u001b[0mintegers3\u001b[0m\u001b[0;34m\u001b[0m\u001b[0;34m\u001b[0m\u001b[0m\n\u001b[1;32m     10\u001b[0m \u001b[0;34m\u001b[0m\u001b[0m\n",
      "\u001b[0;31mIndexError\u001b[0m: list assignment index out of range"
     ]
    }
   ],
   "source": [
    "#Answer here\n",
    "integers1 = [1,2,3]\n",
    "integers2 = [5,4,3]\n",
    "integers3 = []\n",
    "\n",
    "index = [0,1,2]\n",
    "for i in index: \n",
    "    integers3[i] = integers1[i] + integers2[i]\n",
    "\n",
    "print(integers3_\n",
    "        \n"
   ]
  },
  {
   "cell_type": "markdown",
   "metadata": {
    "id": "Vs3BpJ7MXl_P"
   },
   "source": [
    "#### Exercise 5. Write a program that replaces every 3rd element of a list with the string ‘I-Love-Imperial’\n",
    "\n",
    "For example [1, 2, 3] would become [1, 2, ‘I-Love-Imperial’]"
   ]
  },
  {
   "cell_type": "code",
   "execution_count": 11,
   "metadata": {
    "executionInfo": {
     "elapsed": 216,
     "status": "ok",
     "timestamp": 1636405516929,
     "user": {
      "displayName": "Guadalupe Gonzalez",
      "photoUrl": "https://lh3.googleusercontent.com/a-/AOh14Gh6yi9i3jbOuc8N3L9yE02l2Z9qVoguGwLwR3u5bQ=s64",
      "userId": "04798127192760659593"
     },
     "user_tz": 0
    },
    "id": "8h-rw5vUXiBC"
   },
   "outputs": [],
   "source": [
    "#Answer here\n",
    "\n"
   ]
  },
  {
   "cell_type": "code",
   "execution_count": null,
   "metadata": {
    "id": "pw6yxZ8rXphE"
   },
   "outputs": [],
   "source": []
  }
 ],
 "metadata": {
  "colab": {
   "authorship_tag": "ABX9TyP8q6+9Q28VoEr5RFBEnbLp",
   "collapsed_sections": [],
   "name": "intro_to_python.ipynb",
   "provenance": []
  },
  "kernelspec": {
   "display_name": "Python 3",
   "language": "python",
   "name": "python3"
  },
  "language_info": {
   "codemirror_mode": {
    "name": "ipython",
    "version": 3
   },
   "file_extension": ".py",
   "mimetype": "text/x-python",
   "name": "python",
   "nbconvert_exporter": "python",
   "pygments_lexer": "ipython3",
   "version": "3.8.5"
  }
 },
 "nbformat": 4,
 "nbformat_minor": 1
}
